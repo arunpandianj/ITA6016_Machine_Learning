{
  "cells": [
    {
      "cell_type": "markdown",
      "source": [
        "#  Logic Gate simulation using Neural Network"
      ],
      "metadata": {
        "id": "DCW6jsPusxkS"
      }
    },
    {
      "cell_type": "code",
      "execution_count": null,
      "metadata": {
        "ExecuteTime": {
          "end_time": "2020-06-16T21:42:01.273573Z",
          "start_time": "2020-06-16T21:42:01.267581Z"
        },
        "id": "bl5lEcwwrXxD"
      },
      "outputs": [],
      "source": [
        "import tensorflow as tf\n",
        "import numpy as np"
      ]
    },
    {
      "cell_type": "markdown",
      "metadata": {
        "id": "Q3fvDp1IrXxJ"
      },
      "source": [
        "#  Initialize the Variables required."
      ]
    },
    {
      "cell_type": "code",
      "execution_count": null,
      "metadata": {
        "ExecuteTime": {
          "end_time": "2020-06-16T21:42:01.885578Z",
          "start_time": "2020-06-16T21:42:01.869592Z"
        },
        "id": "jB2RRHBSrXxS"
      },
      "outputs": [],
      "source": [
        "X1=tf.Variable(initial_value=[0.,1.,0.,1.])\n",
        "X2=tf.Variable(initial_value=[0.,0.,1.,1.])\n",
        "Y_AND=tf.Variable(initial_value=[0.,0.,0.,1.])\n",
        "Y_NOR=tf.Variable(initial_value=[1.,0.,0.,0.])\n",
        "Y_OR=tf.Variable(initial_value=[0.,1.,1.,1.])\n",
        "Y_XOR=tf.Variable(initial_value=[0.,1.,1.,0.])\n",
        "Y_XNOR=tf.Variable(initial_value=[1.,0.,0.,1.])"
      ]
    },
    {
      "cell_type": "code",
      "execution_count": null,
      "metadata": {
        "ExecuteTime": {
          "end_time": "2020-06-16T21:44:42.718205Z",
          "start_time": "2020-06-16T21:44:42.713210Z"
        },
        "id": "7MF_wbl9rXxX"
      },
      "outputs": [],
      "source": [
        "# At First we will find weights for AND,OR and NOR Gates"
      ]
    },
    {
      "cell_type": "code",
      "execution_count": null,
      "metadata": {
        "ExecuteTime": {
          "end_time": "2020-06-16T21:44:59.623799Z",
          "start_time": "2020-06-16T21:44:59.618804Z"
        },
        "id": "fPMa-XqtrXxZ"
      },
      "outputs": [],
      "source": [
        "#Let us define the model"
      ]
    },
    {
      "cell_type": "code",
      "execution_count": null,
      "metadata": {
        "ExecuteTime": {
          "end_time": "2020-06-16T21:45:00.293832Z",
          "start_time": "2020-06-16T21:45:00.280846Z"
        },
        "id": "YGIOlxW4rXxc"
      },
      "outputs": [],
      "source": [
        "class Model(object):\n",
        "\n",
        "   def __init__(self):\n",
        "\n",
        "         # Initialize the weights to `2.0` and the bias to `2.0`\n",
        "         # In practice, these should be initialized to random values\n",
        "         # self.W1=tf.random.normal([1])\n",
        "        self.W1 = tf.Variable(2.)\n",
        "        self.W2= tf.Variable(2.)\n",
        "        self.b=tf.Variable(2.)\n",
        "\n",
        "   def __call__(self, x1,x2):\n",
        "        self.K1=self.W1 * x1 + self.W2 * x2 + self.b\n",
        "        self.Output = tf.keras.activations.sigmoid(self.K1)\n",
        "        return(self.Output)\n",
        "model=Model()"
      ]
    },
    {
      "cell_type": "code",
      "execution_count": null,
      "metadata": {
        "ExecuteTime": {
          "end_time": "2020-06-16T21:45:14.127469Z",
          "start_time": "2020-06-16T21:45:14.123471Z"
        },
        "id": "K2FgRB-lrXxe"
      },
      "outputs": [],
      "source": [
        "#Cost function will be"
      ]
    },
    {
      "cell_type": "code",
      "execution_count": null,
      "metadata": {
        "ExecuteTime": {
          "end_time": "2020-06-16T21:45:14.708758Z",
          "start_time": "2020-06-16T21:45:14.701765Z"
        },
        "id": "AsN0rpGsrXxf"
      },
      "outputs": [],
      "source": [
        "def compute_cost(target_y, predicted_y):\n",
        "    c=tf.keras.losses.BinaryCrossentropy()\n",
        "    return(c(target_y,predicted_y))"
      ]
    },
    {
      "cell_type": "code",
      "execution_count": null,
      "metadata": {
        "ExecuteTime": {
          "end_time": "2020-06-16T21:45:16.146802Z",
          "start_time": "2020-06-16T21:45:16.141809Z"
        },
        "id": "M_lVHftZrXxh"
      },
      "outputs": [],
      "source": [
        "def None_to_Zero(v):\n",
        "    if v==None:\n",
        "        v=0\n",
        "    return v"
      ]
    },
    {
      "cell_type": "code",
      "execution_count": null,
      "metadata": {
        "ExecuteTime": {
          "end_time": "2020-06-16T21:45:17.574708Z",
          "start_time": "2020-06-16T21:45:17.566714Z"
        },
        "id": "5Y6_O8sorXxj"
      },
      "outputs": [],
      "source": [
        "def train(model, X1, X2, Y2, learning_rate):\n",
        "    with tf.GradientTape() as t:\n",
        "            current_loss = compute_cost(Y2,model(X1,X2))\n",
        "    dW1,dW2,db=t.gradient(current_loss,[model.W1,model.W2,model.b])\n",
        "    dW1=None_to_Zero(dW1)\n",
        "    db=None_to_Zero(db)\n",
        "    dW2=None_to_Zero(dW2)\n",
        "    model.W1.assign_sub(learning_rate * dW1)\n",
        "    model.b.assign_sub(learning_rate * db)\n",
        "    model.W2.assign_sub(learning_rate * dW2)"
      ]
    },
    {
      "cell_type": "markdown",
      "metadata": {
        "id": "7kni_qy8rXxl"
      },
      "source": [
        "# Model For AND Gate"
      ]
    },
    {
      "cell_type": "code",
      "execution_count": null,
      "metadata": {
        "ExecuteTime": {
          "end_time": "2020-06-16T21:45:25.216688Z",
          "start_time": "2020-06-16T21:45:20.117436Z"
        },
        "id": "3cECWW00rXxm",
        "outputId": "0fe655b6-ae24-4d1a-b2f1-e8f59a5ddff4",
        "colab": {
          "base_uri": "https://localhost:8080/"
        }
      },
      "outputs": [
        {
          "output_type": "stream",
          "name": "stdout",
          "text": [
            "[0. 0. 0. 1.]\n"
          ]
        }
      ],
      "source": [
        "# As we have very less Input data we need to increase the number of # epochs or the learning rate.\n",
        "epochs=range(1000)\n",
        "learning_rate=0.1\n",
        "for epoch in epochs:\n",
        "    train(model, X1, X2,Y_AND, learning_rate)\n",
        "   # train(model, X1, X2,Y_NOR, learning_rate)\n",
        "   # train(model, X1, X2,Y_OR, learning_rate)\n",
        "#Once the training is done we can find results by calling the Model  #Class object as\n",
        "print(np.round(model(X1, X2).numpy()))"
      ]
    },
    {
      "cell_type": "code",
      "execution_count": null,
      "metadata": {
        "ExecuteTime": {
          "end_time": "2020-06-16T21:45:25.227676Z",
          "start_time": "2020-06-16T21:45:25.219685Z"
        },
        "id": "OiHNk9UdrXxp"
      },
      "outputs": [],
      "source": [
        "W_AND={'W1':model.W1.numpy(),'W2':model.W2.numpy(),'b':model.b.numpy()}"
      ]
    },
    {
      "cell_type": "code",
      "execution_count": null,
      "metadata": {
        "ExecuteTime": {
          "end_time": "2020-06-16T21:45:25.365341Z",
          "start_time": "2020-06-16T21:45:25.233672Z"
        },
        "id": "MvTHkSWyrXxq",
        "outputId": "49dd986d-3d92-4237-ac5b-ccf211d1a538",
        "colab": {
          "base_uri": "https://localhost:8080/"
        }
      },
      "outputs": [
        {
          "output_type": "execute_result",
          "data": {
            "text/plain": [
              "<tf.Variable 'Variable:0' shape=() dtype=float32, numpy=-4.9359>"
            ]
          },
          "metadata": {},
          "execution_count": 12
        }
      ],
      "source": [
        "model.b"
      ]
    },
    {
      "cell_type": "code",
      "execution_count": null,
      "metadata": {
        "ExecuteTime": {
          "end_time": "2020-06-16T21:45:25.499241Z",
          "start_time": "2020-06-16T21:45:25.370336Z"
        },
        "id": "h7IS9co8rXxt"
      },
      "outputs": [],
      "source": [
        "#W_AND={'W1':3.1480012,'W2':3.1480012,'b':-4.9358997}"
      ]
    },
    {
      "cell_type": "code",
      "execution_count": null,
      "metadata": {
        "ExecuteTime": {
          "end_time": "2020-06-16T21:45:25.629006Z",
          "start_time": "2020-06-16T21:45:25.504235Z"
        },
        "id": "22r_xnqvrXxu",
        "outputId": "9dfb0cb3-d0e1-4489-df73-e98e326b037f",
        "colab": {
          "base_uri": "https://localhost:8080/"
        }
      },
      "outputs": [
        {
          "output_type": "execute_result",
          "data": {
            "text/plain": [
              "{'W1': 3.1480014, 'W2': 3.1480014, 'b': -4.9359}"
            ]
          },
          "metadata": {},
          "execution_count": 14
        }
      ],
      "source": [
        "W_AND"
      ]
    },
    {
      "cell_type": "markdown",
      "metadata": {
        "id": "FVALz_XNrXxx"
      },
      "source": [
        "# Model for OR Gate"
      ]
    },
    {
      "cell_type": "code",
      "execution_count": null,
      "metadata": {
        "ExecuteTime": {
          "end_time": "2020-06-16T21:45:30.908392Z",
          "start_time": "2020-06-16T21:45:25.632004Z"
        },
        "id": "H1cnSwpSrXxy",
        "outputId": "e93b0ce8-08a0-4530-d517-d63ad0ffa556",
        "colab": {
          "base_uri": "https://localhost:8080/"
        }
      },
      "outputs": [
        {
          "output_type": "stream",
          "name": "stdout",
          "text": [
            "[0. 1. 1. 1.]\n"
          ]
        }
      ],
      "source": [
        "epochs=range(1000)\n",
        "learning_rate=0.1\n",
        "for epoch in epochs:\n",
        "    train(model, X1, X2,Y_OR, learning_rate)\n",
        "#Once the training is done we can find results by calling the Model  #Class object as\n",
        "print(np.round(model(X1, X2).numpy()))"
      ]
    },
    {
      "cell_type": "code",
      "execution_count": null,
      "metadata": {
        "ExecuteTime": {
          "end_time": "2020-06-16T21:45:30.920383Z",
          "start_time": "2020-06-16T21:45:30.911391Z"
        },
        "id": "ZYdxCe8-rXxz"
      },
      "outputs": [],
      "source": [
        "W_OR={'W1':model.W1.numpy(),'W2':model.W2.numpy(),'b':model.b.numpy()}"
      ]
    },
    {
      "cell_type": "code",
      "execution_count": null,
      "metadata": {
        "ExecuteTime": {
          "end_time": "2020-06-16T21:45:31.064686Z",
          "start_time": "2020-06-16T21:45:30.925377Z"
        },
        "id": "SmbSJK-hrXx1",
        "outputId": "81d30682-443e-4c92-f725-4540c6cbc826",
        "colab": {
          "base_uri": "https://localhost:8080/"
        }
      },
      "outputs": [
        {
          "output_type": "execute_result",
          "data": {
            "text/plain": [
              "{'W1': 5.6196933, 'W2': 5.6196933, 'b': -2.3270612}"
            ]
          },
          "metadata": {},
          "execution_count": 17
        }
      ],
      "source": [
        "W_OR"
      ]
    },
    {
      "cell_type": "markdown",
      "metadata": {
        "id": "JQWKUp8mrXx3"
      },
      "source": [
        "# Model For NOR Gate"
      ]
    },
    {
      "cell_type": "code",
      "execution_count": null,
      "metadata": {
        "ExecuteTime": {
          "end_time": "2020-06-16T21:45:36.362143Z",
          "start_time": "2020-06-16T21:45:31.073674Z"
        },
        "id": "mqCMkrWGrXx3",
        "outputId": "12f02846-a4e4-4f38-f52d-127d3071e016",
        "colab": {
          "base_uri": "https://localhost:8080/"
        }
      },
      "outputs": [
        {
          "output_type": "stream",
          "name": "stdout",
          "text": [
            "[1. 0. 0. 0.]\n"
          ]
        }
      ],
      "source": [
        "epochs=range(1000)\n",
        "learning_rate=0.1\n",
        "for epoch in epochs:\n",
        "    train(model, X1, X2,Y_NOR, learning_rate)\n",
        "#Once the training is done we can find results by calling the Model  #Class object as\n",
        "print(np.round(model(X1, X2).numpy()))"
      ]
    },
    {
      "cell_type": "code",
      "execution_count": null,
      "metadata": {
        "ExecuteTime": {
          "end_time": "2020-06-16T21:45:36.372133Z",
          "start_time": "2020-06-16T21:45:36.365141Z"
        },
        "id": "ywuHfHiPrXx6"
      },
      "outputs": [],
      "source": [
        "W_NOR={'W1':model.W1.numpy(),'W2':model.W2.numpy(),'b':model.b.numpy()}"
      ]
    },
    {
      "cell_type": "code",
      "execution_count": null,
      "metadata": {
        "ExecuteTime": {
          "end_time": "2020-06-16T21:45:36.509225Z",
          "start_time": "2020-06-16T21:45:36.375131Z"
        },
        "id": "R7Io_S7KrXx7",
        "outputId": "77da3901-3218-4203-93a2-c696e74b9a4b",
        "colab": {
          "base_uri": "https://localhost:8080/"
        }
      },
      "outputs": [
        {
          "output_type": "execute_result",
          "data": {
            "text/plain": [
              "0.94293463"
            ]
          },
          "metadata": {},
          "execution_count": 20
        }
      ],
      "source": [
        "model.b.numpy()"
      ]
    },
    {
      "cell_type": "code",
      "execution_count": null,
      "metadata": {
        "ExecuteTime": {
          "end_time": "2020-06-16T21:45:36.628393Z",
          "start_time": "2020-06-16T21:45:36.513221Z"
        },
        "id": "xK0dznSnrXx8"
      },
      "outputs": [],
      "source": [
        "# W_NOR={'W1':-3.0863311,'W2':-3.0863311,'b':0.94292766}"
      ]
    },
    {
      "cell_type": "code",
      "execution_count": null,
      "metadata": {
        "ExecuteTime": {
          "end_time": "2020-06-16T21:45:36.821691Z",
          "start_time": "2020-06-16T21:45:36.630573Z"
        },
        "id": "f9E5AlQmrXx-",
        "outputId": "b2149c05-c895-43fd-974f-0d75eb53de70",
        "colab": {
          "base_uri": "https://localhost:8080/"
        }
      },
      "outputs": [
        {
          "output_type": "execute_result",
          "data": {
            "text/plain": [
              "{'W1': -3.086343, 'W2': -3.086343, 'b': 0.94293463}"
            ]
          },
          "metadata": {},
          "execution_count": 22
        }
      ],
      "source": [
        "W_NOR"
      ]
    },
    {
      "cell_type": "markdown",
      "metadata": {
        "id": "YOMXxRwirXx_"
      },
      "source": [
        "# Model for XOR Gate"
      ]
    },
    {
      "cell_type": "code",
      "execution_count": null,
      "metadata": {
        "ExecuteTime": {
          "end_time": "2020-06-16T21:46:02.986286Z",
          "start_time": "2020-06-16T21:46:02.959313Z"
        },
        "id": "swnLh9TqrXyA"
      },
      "outputs": [],
      "source": [
        "class Model_XOR(object):\n",
        "\n",
        "\n",
        "    def __init__(self):\n",
        "        self.W11 = tf.Variable(W_AND['W1'])\n",
        "        self.W12= tf.Variable(W_AND['W2'])\n",
        "        self.b13=tf.Variable(W_AND['b'])\n",
        "        self.W14 = tf.Variable(W_NOR['W1'])\n",
        "        self.W15= tf.Variable(W_NOR['W2'])\n",
        "        self.b16=tf.Variable(W_NOR['b'])\n",
        "        self.W21 = tf.Variable(W_NOR['W1'])\n",
        "        self.W22= tf.Variable(W_NOR['W2'])\n",
        "        self.b23=tf.Variable(W_NOR['b'])\n",
        "\n",
        "    def __call__(self, x1,x2):\n",
        "        self.W1=self.W11 * x1 + self.W12*x2 + self.b13\n",
        "        self.W2=self.W14 * x1 + self.W15*x2 + self.b16\n",
        "        self.A1 = tf.keras.activations.sigmoid(self.W1)\n",
        "        self.A2 = tf.keras.activations.sigmoid(self.W2)\n",
        "        self.W3=self.W21 * self.A1 + self.W22*self.A2 + self.b23\n",
        "        self.A3 = tf.keras.activations.sigmoid(self.W3)\n",
        "        return(self.A3)\n",
        "model_xor=Model_XOR()"
      ]
    },
    {
      "cell_type": "code",
      "execution_count": null,
      "metadata": {
        "ExecuteTime": {
          "end_time": "2020-06-16T21:46:04.096036Z",
          "start_time": "2020-06-16T21:46:04.087047Z"
        },
        "id": "Hl4NXpY9rXyC",
        "outputId": "c894f241-a5cc-4bf5-b438-b050572ab737",
        "colab": {
          "base_uri": "https://localhost:8080/"
        }
      },
      "outputs": [
        {
          "output_type": "execute_result",
          "data": {
            "text/plain": [
              "<tf.Variable 'Variable:0' shape=() dtype=float32, numpy=-3.086343>"
            ]
          },
          "metadata": {},
          "execution_count": 24
        }
      ],
      "source": [
        "model_xor.W14"
      ]
    },
    {
      "cell_type": "code",
      "execution_count": null,
      "metadata": {
        "ExecuteTime": {
          "end_time": "2020-06-16T21:46:06.596834Z",
          "start_time": "2020-06-16T21:46:06.577851Z"
        },
        "id": "lNY0v5i2rXyD"
      },
      "outputs": [],
      "source": [
        "def train_xor(model_xor, X1, X2, Y2, learning_rate):\n",
        "    with tf.GradientTape() as t:\n",
        "        current_loss = compute_cost(Y2,model_xor(X1,X2))\n",
        "\n",
        "\n",
        "    dW11,dW12,db13,dW14,dW15,db16,dW21,dW22,db23=t.gradient(current_loss,[model_xor.W11,model_xor.W12,model_xor.b13,\n",
        "                                                                            model_xor.W14,model_xor.W15,model_xor.b16,\n",
        "                                                                            model_xor.W21,model_xor.W22,model_xor.b23,])\n",
        "\n",
        "\n",
        "    model_xor.W11.assign_sub(learning_rate * None_to_Zero(dW11))\n",
        "    model_xor.b13.assign_sub(learning_rate * None_to_Zero(db13))\n",
        "    model_xor.W12.assign_sub(learning_rate * None_to_Zero(dW12))\n",
        "    model_xor.W14.assign_sub(learning_rate * None_to_Zero(dW14))\n",
        "    model_xor.b16.assign_sub(learning_rate * None_to_Zero(db16))\n",
        "    model_xor.W15.assign_sub(learning_rate * None_to_Zero(dW15))\n",
        "    model_xor.W21.assign_sub(learning_rate * None_to_Zero(dW21))\n",
        "    model_xor.b23.assign_sub(learning_rate * None_to_Zero(db23))\n",
        "    model_xor.W22.assign_sub(learning_rate * None_to_Zero(dW22))"
      ]
    },
    {
      "cell_type": "code",
      "execution_count": null,
      "metadata": {
        "ExecuteTime": {
          "end_time": "2020-06-16T21:46:09.612525Z",
          "start_time": "2020-06-16T21:46:08.757322Z"
        },
        "id": "Rpr8HE39rXyE",
        "outputId": "e373ab15-1cf0-407c-c091-8f38d0943185",
        "colab": {
          "base_uri": "https://localhost:8080/"
        }
      },
      "outputs": [
        {
          "output_type": "stream",
          "name": "stdout",
          "text": [
            "[0. 1. 1. 0.]\n"
          ]
        }
      ],
      "source": [
        "epochs=range(100)\n",
        "learning_rate=0.1\n",
        "for epoch in epochs:\n",
        "    train_xor(model_xor, X1, X2,Y_XOR, learning_rate)\n",
        "   #Once the training is done we can find results by calling the Model_XOR  #Class object as\n",
        "print(np.round(model_xor(X1, X2).numpy()))"
      ]
    },
    {
      "cell_type": "code",
      "execution_count": null,
      "metadata": {
        "ExecuteTime": {
          "end_time": "2020-06-16T21:46:16.005067Z",
          "start_time": "2020-06-16T21:46:15.994076Z"
        },
        "id": "rrx_YDSorXyG",
        "outputId": "54630afd-9200-4189-aa24-6db47827fa60",
        "colab": {
          "base_uri": "https://localhost:8080/"
        }
      },
      "outputs": [
        {
          "output_type": "execute_result",
          "data": {
            "text/plain": [
              "<tf.Tensor: shape=(4,), dtype=float32, numpy=array([0.27440104, 0.6892569 , 0.6892569 , 0.25437018], dtype=float32)>"
            ]
          },
          "metadata": {},
          "execution_count": 27
        }
      ],
      "source": [
        "model_xor(X1, X2)"
      ]
    },
    {
      "cell_type": "markdown",
      "metadata": {
        "id": "UvJy74fgrXyI"
      },
      "source": [
        "# Model for XNOR Gate  "
      ]
    },
    {
      "cell_type": "code",
      "execution_count": null,
      "metadata": {
        "ExecuteTime": {
          "end_time": "2020-06-16T21:46:56.603628Z",
          "start_time": "2020-06-16T21:46:56.582648Z"
        },
        "id": "XNJG_RLbrXyJ"
      },
      "outputs": [],
      "source": [
        "class Model_XNOR(object):\n",
        "\n",
        "\n",
        "    def __init__(self):\n",
        "        self.W11 = tf.Variable(W_AND['W1'])\n",
        "        self.W12= tf.Variable(W_AND['W2'])\n",
        "        self.b13=tf.Variable(W_AND['b'])\n",
        "        self.W14 = tf.Variable(W_NOR['W1'])\n",
        "        self.W15= tf.Variable(W_NOR['W2'])\n",
        "        self.b16=tf.Variable(W_NOR['b'])\n",
        "        self.W21 = tf.Variable(W_OR['W1'])\n",
        "        self.W22= tf.Variable(W_OR['W2'])\n",
        "        self.b23=tf.Variable(W_OR['b'])\n",
        "\n",
        "    def __call__(self, x1,x2):\n",
        "        self.W1=self.W11 * x1 + self.W12*x2 + self.b13\n",
        "        self.W2=self.W14 * x1 + self.W15*x2 + self.b16\n",
        "        self.A1 = tf.keras.activations.sigmoid(self.W1)\n",
        "        self.A2 = tf.keras.activations.sigmoid(self.W2)\n",
        "        self.W3=self.W21 * self.A1 + self.W22*self.A2 + self.b23\n",
        "        self.A3 = tf.keras.activations.sigmoid(self.W3)\n",
        "        return(self.A3)\n",
        "model_xnor=Model_XNOR()"
      ]
    },
    {
      "cell_type": "code",
      "execution_count": null,
      "metadata": {
        "ExecuteTime": {
          "end_time": "2020-06-16T21:46:58.920368Z",
          "start_time": "2020-06-16T21:46:58.908376Z"
        },
        "id": "xTmnEBIyrXyL"
      },
      "outputs": [],
      "source": [
        "def train_xnor(model_xnor, X1, X2, Y2, learning_rate):\n",
        "    with tf.GradientTape() as t:\n",
        "        current_loss = compute_cost(Y2,model_xnor(X1,X2))\n",
        "\n",
        "\n",
        "    dW11,dW12,db13,dW14,dW15,db16,dW21,dW22,db23=t.gradient(current_loss,[model_xnor.W11,model_xnor.W12,model_xnor.b13,\n",
        "                                                                            model_xnor.W14,model_xnor.W15,model_xnor.b16,\n",
        "                                                                            model_xnor.W21,model_xnor.W22,model_xnor.b23,])\n",
        "\n",
        "\n",
        "    model_xnor.W11.assign_sub(learning_rate * None_to_Zero(dW11))\n",
        "    model_xnor.b13.assign_sub(learning_rate * None_to_Zero(db13))\n",
        "    model_xnor.W12.assign_sub(learning_rate * None_to_Zero(dW12))\n",
        "    model_xnor.W14.assign_sub(learning_rate * None_to_Zero(dW14))\n",
        "    model_xnor.b16.assign_sub(learning_rate * None_to_Zero(db16))\n",
        "    model_xnor.W15.assign_sub(learning_rate * None_to_Zero(dW15))\n",
        "    model_xnor.W21.assign_sub(learning_rate * None_to_Zero(dW21))\n",
        "    model_xnor.b23.assign_sub(learning_rate * None_to_Zero(db23))\n",
        "    model_xnor.W22.assign_sub(learning_rate * None_to_Zero(dW22))"
      ]
    },
    {
      "cell_type": "code",
      "execution_count": null,
      "metadata": {
        "ExecuteTime": {
          "end_time": "2020-06-16T21:47:01.214183Z",
          "start_time": "2020-06-16T21:47:00.401937Z"
        },
        "id": "_NC0oMezrXyY",
        "outputId": "19ba359d-9ceb-4704-f781-16766154eacb",
        "colab": {
          "base_uri": "https://localhost:8080/"
        }
      },
      "outputs": [
        {
          "output_type": "stream",
          "name": "stdout",
          "text": [
            "[1. 0. 0. 1.]\n"
          ]
        }
      ],
      "source": [
        "epochs=range(100)\n",
        "learning_rate=0.1\n",
        "for epoch in epochs:\n",
        "    train_xnor(model_xnor, X1, X2,Y_XNOR, learning_rate)\n",
        "   #Once the training is done we can find results by calling the Model_XOR  #Class object as\n",
        "print(np.round(model_xnor(X1, X2).numpy()))"
      ]
    }
  ],
  "metadata": {
    "kernelspec": {
      "display_name": "Python 3",
      "language": "python",
      "name": "python3"
    },
    "language_info": {
      "codemirror_mode": {
        "name": "ipython",
        "version": 3
      },
      "file_extension": ".py",
      "mimetype": "text/x-python",
      "name": "python",
      "nbconvert_exporter": "python",
      "pygments_lexer": "ipython3",
      "version": "3.7.6"
    },
    "colab": {
      "provenance": []
    }
  },
  "nbformat": 4,
  "nbformat_minor": 0
}