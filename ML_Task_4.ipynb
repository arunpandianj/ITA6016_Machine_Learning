{
  "cells": [
    {
      "metadata": {
        "_uuid": "d629ff2d2480ee46fbb7e2d37f6b5fab8052498a",
        "collapsed": true,
        "_cell_guid": "79c7e3d0-c299-4dcb-8224-4455121ee9b0",
        "trusted": false,
        "id": "KyKc8jFSah8T"
      },
      "cell_type": "markdown",
      "source": [
        "## 1. Import dependent libraries"
      ]
    },
    {
      "metadata": {
        "trusted": true,
        "id": "KbAWx4oCah8X"
      },
      "cell_type": "code",
      "source": [
        "import pandas as pd\n",
        "import numpy as np\n",
        "import os\n",
        "\n",
        "# Plotting libraries\n",
        "import matplotlib.pyplot as plt\n",
        "\n",
        "\n",
        "# SKLearn libraries\n",
        "from sklearn.preprocessing import LabelEncoder\n",
        "from sklearn.model_selection import train_test_split\n",
        "\n",
        "# Tensorflow libraries\n",
        "import tensorflow as tf\n",
        "from tensorflow import keras\n",
        "from tensorflow.keras.models import Sequential\n"
      ],
      "execution_count": 1,
      "outputs": []
    },
    {
      "metadata": {
        "trusted": true,
        "id": "Jpsjpwtiah8i"
      },
      "cell_type": "code",
      "source": [
        "# Data file path\n",
        "FILE_PATH = '/content/Iris.csv'\n",
        "\n",
        "# Dataframe from csv file\n",
        "iris_data = pd.read_csv(FILE_PATH, header=0)"
      ],
      "execution_count": 2,
      "outputs": []
    },
    {
      "metadata": {
        "trusted": true,
        "colab": {
          "base_uri": "https://localhost:8080/",
          "height": 613
        },
        "id": "MwLJsrmxah8n",
        "outputId": "b5de7dc0-16cf-4477-a0c8-294e2199e1dd"
      },
      "cell_type": "code",
      "source": [
        "iris_data.info()\n",
        "print(\"==\"*40)\n",
        "iris_data.head(10)"
      ],
      "execution_count": 3,
      "outputs": [
        {
          "output_type": "stream",
          "name": "stdout",
          "text": [
            "<class 'pandas.core.frame.DataFrame'>\n",
            "RangeIndex: 150 entries, 0 to 149\n",
            "Data columns (total 6 columns):\n",
            " #   Column         Non-Null Count  Dtype  \n",
            "---  ------         --------------  -----  \n",
            " 0   Id             150 non-null    int64  \n",
            " 1   SepalLengthCm  150 non-null    float64\n",
            " 2   SepalWidthCm   150 non-null    float64\n",
            " 3   PetalLengthCm  150 non-null    float64\n",
            " 4   PetalWidthCm   150 non-null    float64\n",
            " 5   Species        150 non-null    object \n",
            "dtypes: float64(4), int64(1), object(1)\n",
            "memory usage: 7.2+ KB\n",
            "================================================================================\n"
          ]
        },
        {
          "output_type": "execute_result",
          "data": {
            "text/plain": [
              "   Id  SepalLengthCm  SepalWidthCm  PetalLengthCm  PetalWidthCm      Species\n",
              "0   1            5.1           3.5            1.4           0.2  Iris-setosa\n",
              "1   2            4.9           3.0            1.4           0.2  Iris-setosa\n",
              "2   3            4.7           3.2            1.3           0.2  Iris-setosa\n",
              "3   4            4.6           3.1            1.5           0.2  Iris-setosa\n",
              "4   5            5.0           3.6            1.4           0.2  Iris-setosa\n",
              "5   6            5.4           3.9            1.7           0.4  Iris-setosa\n",
              "6   7            4.6           3.4            1.4           0.3  Iris-setosa\n",
              "7   8            5.0           3.4            1.5           0.2  Iris-setosa\n",
              "8   9            4.4           2.9            1.4           0.2  Iris-setosa\n",
              "9  10            4.9           3.1            1.5           0.1  Iris-setosa"
            ],
            "text/html": [
              "\n",
              "\n",
              "  <div id=\"df-1a8f4029-d263-4171-92e1-7785c6b0a827\">\n",
              "    <div class=\"colab-df-container\">\n",
              "      <div>\n",
              "<style scoped>\n",
              "    .dataframe tbody tr th:only-of-type {\n",
              "        vertical-align: middle;\n",
              "    }\n",
              "\n",
              "    .dataframe tbody tr th {\n",
              "        vertical-align: top;\n",
              "    }\n",
              "\n",
              "    .dataframe thead th {\n",
              "        text-align: right;\n",
              "    }\n",
              "</style>\n",
              "<table border=\"1\" class=\"dataframe\">\n",
              "  <thead>\n",
              "    <tr style=\"text-align: right;\">\n",
              "      <th></th>\n",
              "      <th>Id</th>\n",
              "      <th>SepalLengthCm</th>\n",
              "      <th>SepalWidthCm</th>\n",
              "      <th>PetalLengthCm</th>\n",
              "      <th>PetalWidthCm</th>\n",
              "      <th>Species</th>\n",
              "    </tr>\n",
              "  </thead>\n",
              "  <tbody>\n",
              "    <tr>\n",
              "      <th>0</th>\n",
              "      <td>1</td>\n",
              "      <td>5.1</td>\n",
              "      <td>3.5</td>\n",
              "      <td>1.4</td>\n",
              "      <td>0.2</td>\n",
              "      <td>Iris-setosa</td>\n",
              "    </tr>\n",
              "    <tr>\n",
              "      <th>1</th>\n",
              "      <td>2</td>\n",
              "      <td>4.9</td>\n",
              "      <td>3.0</td>\n",
              "      <td>1.4</td>\n",
              "      <td>0.2</td>\n",
              "      <td>Iris-setosa</td>\n",
              "    </tr>\n",
              "    <tr>\n",
              "      <th>2</th>\n",
              "      <td>3</td>\n",
              "      <td>4.7</td>\n",
              "      <td>3.2</td>\n",
              "      <td>1.3</td>\n",
              "      <td>0.2</td>\n",
              "      <td>Iris-setosa</td>\n",
              "    </tr>\n",
              "    <tr>\n",
              "      <th>3</th>\n",
              "      <td>4</td>\n",
              "      <td>4.6</td>\n",
              "      <td>3.1</td>\n",
              "      <td>1.5</td>\n",
              "      <td>0.2</td>\n",
              "      <td>Iris-setosa</td>\n",
              "    </tr>\n",
              "    <tr>\n",
              "      <th>4</th>\n",
              "      <td>5</td>\n",
              "      <td>5.0</td>\n",
              "      <td>3.6</td>\n",
              "      <td>1.4</td>\n",
              "      <td>0.2</td>\n",
              "      <td>Iris-setosa</td>\n",
              "    </tr>\n",
              "    <tr>\n",
              "      <th>5</th>\n",
              "      <td>6</td>\n",
              "      <td>5.4</td>\n",
              "      <td>3.9</td>\n",
              "      <td>1.7</td>\n",
              "      <td>0.4</td>\n",
              "      <td>Iris-setosa</td>\n",
              "    </tr>\n",
              "    <tr>\n",
              "      <th>6</th>\n",
              "      <td>7</td>\n",
              "      <td>4.6</td>\n",
              "      <td>3.4</td>\n",
              "      <td>1.4</td>\n",
              "      <td>0.3</td>\n",
              "      <td>Iris-setosa</td>\n",
              "    </tr>\n",
              "    <tr>\n",
              "      <th>7</th>\n",
              "      <td>8</td>\n",
              "      <td>5.0</td>\n",
              "      <td>3.4</td>\n",
              "      <td>1.5</td>\n",
              "      <td>0.2</td>\n",
              "      <td>Iris-setosa</td>\n",
              "    </tr>\n",
              "    <tr>\n",
              "      <th>8</th>\n",
              "      <td>9</td>\n",
              "      <td>4.4</td>\n",
              "      <td>2.9</td>\n",
              "      <td>1.4</td>\n",
              "      <td>0.2</td>\n",
              "      <td>Iris-setosa</td>\n",
              "    </tr>\n",
              "    <tr>\n",
              "      <th>9</th>\n",
              "      <td>10</td>\n",
              "      <td>4.9</td>\n",
              "      <td>3.1</td>\n",
              "      <td>1.5</td>\n",
              "      <td>0.1</td>\n",
              "      <td>Iris-setosa</td>\n",
              "    </tr>\n",
              "  </tbody>\n",
              "</table>\n",
              "</div>\n",
              "      <button class=\"colab-df-convert\" onclick=\"convertToInteractive('df-1a8f4029-d263-4171-92e1-7785c6b0a827')\"\n",
              "              title=\"Convert this dataframe to an interactive table.\"\n",
              "              style=\"display:none;\">\n",
              "\n",
              "  <svg xmlns=\"http://www.w3.org/2000/svg\" height=\"24px\"viewBox=\"0 0 24 24\"\n",
              "       width=\"24px\">\n",
              "    <path d=\"M0 0h24v24H0V0z\" fill=\"none\"/>\n",
              "    <path d=\"M18.56 5.44l.94 2.06.94-2.06 2.06-.94-2.06-.94-.94-2.06-.94 2.06-2.06.94zm-11 1L8.5 8.5l.94-2.06 2.06-.94-2.06-.94L8.5 2.5l-.94 2.06-2.06.94zm10 10l.94 2.06.94-2.06 2.06-.94-2.06-.94-.94-2.06-.94 2.06-2.06.94z\"/><path d=\"M17.41 7.96l-1.37-1.37c-.4-.4-.92-.59-1.43-.59-.52 0-1.04.2-1.43.59L10.3 9.45l-7.72 7.72c-.78.78-.78 2.05 0 2.83L4 21.41c.39.39.9.59 1.41.59.51 0 1.02-.2 1.41-.59l7.78-7.78 2.81-2.81c.8-.78.8-2.07 0-2.86zM5.41 20L4 18.59l7.72-7.72 1.47 1.35L5.41 20z\"/>\n",
              "  </svg>\n",
              "      </button>\n",
              "\n",
              "\n",
              "\n",
              "    <div id=\"df-d227f05d-dcdb-4209-bed9-b6aca97ee72a\">\n",
              "      <button class=\"colab-df-quickchart\" onclick=\"quickchart('df-d227f05d-dcdb-4209-bed9-b6aca97ee72a')\"\n",
              "              title=\"Suggest charts.\"\n",
              "              style=\"display:none;\">\n",
              "\n",
              "<svg xmlns=\"http://www.w3.org/2000/svg\" height=\"24px\"viewBox=\"0 0 24 24\"\n",
              "     width=\"24px\">\n",
              "    <g>\n",
              "        <path d=\"M19 3H5c-1.1 0-2 .9-2 2v14c0 1.1.9 2 2 2h14c1.1 0 2-.9 2-2V5c0-1.1-.9-2-2-2zM9 17H7v-7h2v7zm4 0h-2V7h2v10zm4 0h-2v-4h2v4z\"/>\n",
              "    </g>\n",
              "</svg>\n",
              "      </button>\n",
              "    </div>\n",
              "\n",
              "<style>\n",
              "  .colab-df-quickchart {\n",
              "    background-color: #E8F0FE;\n",
              "    border: none;\n",
              "    border-radius: 50%;\n",
              "    cursor: pointer;\n",
              "    display: none;\n",
              "    fill: #1967D2;\n",
              "    height: 32px;\n",
              "    padding: 0 0 0 0;\n",
              "    width: 32px;\n",
              "  }\n",
              "\n",
              "  .colab-df-quickchart:hover {\n",
              "    background-color: #E2EBFA;\n",
              "    box-shadow: 0px 1px 2px rgba(60, 64, 67, 0.3), 0px 1px 3px 1px rgba(60, 64, 67, 0.15);\n",
              "    fill: #174EA6;\n",
              "  }\n",
              "\n",
              "  [theme=dark] .colab-df-quickchart {\n",
              "    background-color: #3B4455;\n",
              "    fill: #D2E3FC;\n",
              "  }\n",
              "\n",
              "  [theme=dark] .colab-df-quickchart:hover {\n",
              "    background-color: #434B5C;\n",
              "    box-shadow: 0px 1px 3px 1px rgba(0, 0, 0, 0.15);\n",
              "    filter: drop-shadow(0px 1px 2px rgba(0, 0, 0, 0.3));\n",
              "    fill: #FFFFFF;\n",
              "  }\n",
              "</style>\n",
              "\n",
              "    <script>\n",
              "      async function quickchart(key) {\n",
              "        const containerElement = document.querySelector('#' + key);\n",
              "        const charts = await google.colab.kernel.invokeFunction(\n",
              "            'suggestCharts', [key], {});\n",
              "      }\n",
              "    </script>\n",
              "\n",
              "      <script>\n",
              "\n",
              "function displayQuickchartButton(domScope) {\n",
              "  let quickchartButtonEl =\n",
              "    domScope.querySelector('#df-d227f05d-dcdb-4209-bed9-b6aca97ee72a button.colab-df-quickchart');\n",
              "  quickchartButtonEl.style.display =\n",
              "    google.colab.kernel.accessAllowed ? 'block' : 'none';\n",
              "}\n",
              "\n",
              "        displayQuickchartButton(document);\n",
              "      </script>\n",
              "      <style>\n",
              "    .colab-df-container {\n",
              "      display:flex;\n",
              "      flex-wrap:wrap;\n",
              "      gap: 12px;\n",
              "    }\n",
              "\n",
              "    .colab-df-convert {\n",
              "      background-color: #E8F0FE;\n",
              "      border: none;\n",
              "      border-radius: 50%;\n",
              "      cursor: pointer;\n",
              "      display: none;\n",
              "      fill: #1967D2;\n",
              "      height: 32px;\n",
              "      padding: 0 0 0 0;\n",
              "      width: 32px;\n",
              "    }\n",
              "\n",
              "    .colab-df-convert:hover {\n",
              "      background-color: #E2EBFA;\n",
              "      box-shadow: 0px 1px 2px rgba(60, 64, 67, 0.3), 0px 1px 3px 1px rgba(60, 64, 67, 0.15);\n",
              "      fill: #174EA6;\n",
              "    }\n",
              "\n",
              "    [theme=dark] .colab-df-convert {\n",
              "      background-color: #3B4455;\n",
              "      fill: #D2E3FC;\n",
              "    }\n",
              "\n",
              "    [theme=dark] .colab-df-convert:hover {\n",
              "      background-color: #434B5C;\n",
              "      box-shadow: 0px 1px 3px 1px rgba(0, 0, 0, 0.15);\n",
              "      filter: drop-shadow(0px 1px 2px rgba(0, 0, 0, 0.3));\n",
              "      fill: #FFFFFF;\n",
              "    }\n",
              "  </style>\n",
              "\n",
              "      <script>\n",
              "        const buttonEl =\n",
              "          document.querySelector('#df-1a8f4029-d263-4171-92e1-7785c6b0a827 button.colab-df-convert');\n",
              "        buttonEl.style.display =\n",
              "          google.colab.kernel.accessAllowed ? 'block' : 'none';\n",
              "\n",
              "        async function convertToInteractive(key) {\n",
              "          const element = document.querySelector('#df-1a8f4029-d263-4171-92e1-7785c6b0a827');\n",
              "          const dataTable =\n",
              "            await google.colab.kernel.invokeFunction('convertToInteractive',\n",
              "                                                     [key], {});\n",
              "          if (!dataTable) return;\n",
              "\n",
              "          const docLinkHtml = 'Like what you see? Visit the ' +\n",
              "            '<a target=\"_blank\" href=https://colab.research.google.com/notebooks/data_table.ipynb>data table notebook</a>'\n",
              "            + ' to learn more about interactive tables.';\n",
              "          element.innerHTML = '';\n",
              "          dataTable['output_type'] = 'display_data';\n",
              "          await google.colab.output.renderOutput(dataTable, element);\n",
              "          const docLink = document.createElement('div');\n",
              "          docLink.innerHTML = docLinkHtml;\n",
              "          element.appendChild(docLink);\n",
              "        }\n",
              "      </script>\n",
              "    </div>\n",
              "  </div>\n"
            ]
          },
          "metadata": {},
          "execution_count": 3
        }
      ]
    },
    {
      "metadata": {
        "id": "MQK1z1t2ah8r"
      },
      "cell_type": "markdown",
      "source": [
        "## 2. Preparing dataset"
      ]
    },
    {
      "metadata": {
        "trusted": true,
        "id": "FtouROovah8t"
      },
      "cell_type": "code",
      "source": [
        "X = iris_data.loc[:, iris_data.columns != 'Species']\n",
        "y = iris_data.loc[:, ['Species']]"
      ],
      "execution_count": 5,
      "outputs": []
    },
    {
      "metadata": {
        "trusted": true,
        "colab": {
          "base_uri": "https://localhost:8080/"
        },
        "id": "m_IdkBdFah8w",
        "outputId": "26d29725-f8eb-4719-8373-09bbc92d0788"
      },
      "cell_type": "code",
      "source": [
        "y_enc = LabelEncoder().fit_transform(y)\n",
        "# Converting the label into a matrix form\n",
        "y_label = tf.keras.utils.to_categorical(y_enc)"
      ],
      "execution_count": 6,
      "outputs": [
        {
          "output_type": "stream",
          "name": "stderr",
          "text": [
            "/usr/local/lib/python3.10/dist-packages/sklearn/preprocessing/_label.py:116: DataConversionWarning: A column-vector y was passed when a 1d array was expected. Please change the shape of y to (n_samples, ), for example using ravel().\n",
            "  y = column_or_1d(y, warn=True)\n"
          ]
        }
      ]
    },
    {
      "metadata": {
        "id": "8gA-JnJ0ah8z"
      },
      "cell_type": "markdown",
      "source": [
        "Dataset will be prepared by the tensorflow `from_tensor_slice()` method."
      ]
    },
    {
      "metadata": {
        "trusted": true,
        "id": "b38hBSrJah84"
      },
      "cell_type": "code",
      "source": [
        "# X_train_full, X_test, y_train_full, y_test = train_test_split(X, y_label, test_size=0.15)\n",
        "\n",
        "# Validation set\n",
        "# X_train, X_valid, y_train, y_valid = train_test_split(X_train_full, y_train_full)\n",
        "\n",
        "X_train, X_test, y_train, y_test = train_test_split(X, y_label, test_size=0.3)"
      ],
      "execution_count": 7,
      "outputs": []
    },
    {
      "metadata": {
        "trusted": true,
        "colab": {
          "base_uri": "https://localhost:8080/"
        },
        "id": "sQyG-_Bwah87",
        "outputId": "8849cd95-b1f8-4e1b-c5bf-f1d2a6c84ea1"
      },
      "cell_type": "code",
      "source": [
        "print(f\"Train shape : {X_train.shape}, Y Train : {y_train.shape}\")\n",
        "print(X_train.shape[1:])"
      ],
      "execution_count": 8,
      "outputs": [
        {
          "output_type": "stream",
          "name": "stdout",
          "text": [
            "Train shape : (105, 5), Y Train : (105, 3)\n",
            "(5,)\n"
          ]
        }
      ]
    },
    {
      "metadata": {
        "trusted": true,
        "id": "LLzf4OAuah8_"
      },
      "cell_type": "code",
      "source": [
        "def get_model():\n",
        "    model = Sequential([\n",
        "        keras.layers.Input(shape=X_train.shape[1:]),\n",
        "        keras.layers.Dense(500, activation='relu'),\n",
        "        keras.layers.Dense(200, activation='relu',),\n",
        "        keras.layers.Dense(3, activation='softmax')\n",
        "    ])\n",
        "\n",
        "    return model"
      ],
      "execution_count": 15,
      "outputs": []
    },
    {
      "metadata": {
        "trusted": true,
        "id": "EwYFD-PHah9D"
      },
      "cell_type": "code",
      "source": [
        "model = get_model()\n",
        "\n",
        "# Compile the model\n",
        "model.compile(optimizer='adam',\n",
        "              loss=keras.losses.CategoricalCrossentropy(),\n",
        "             metrics=['accuracy'])"
      ],
      "execution_count": 16,
      "outputs": []
    },
    {
      "metadata": {
        "trusted": true,
        "colab": {
          "base_uri": "https://localhost:8080/"
        },
        "id": "e_jI7tenah9B",
        "outputId": "274ddd8b-0bc8-4799-da54-d333fc69bb42"
      },
      "cell_type": "code",
      "source": [
        "model.summary()"
      ],
      "execution_count": 17,
      "outputs": [
        {
          "output_type": "stream",
          "name": "stdout",
          "text": [
            "Model: \"sequential_3\"\n",
            "_________________________________________________________________\n",
            " Layer (type)                Output Shape              Param #   \n",
            "=================================================================\n",
            " dense_12 (Dense)            (None, 500)               3000      \n",
            "                                                                 \n",
            " dense_13 (Dense)            (None, 200)               100200    \n",
            "                                                                 \n",
            " dense_14 (Dense)            (None, 3)                 603       \n",
            "                                                                 \n",
            "=================================================================\n",
            "Total params: 103,803\n",
            "Trainable params: 103,803\n",
            "Non-trainable params: 0\n",
            "_________________________________________________________________\n"
          ]
        }
      ]
    },
    {
      "metadata": {
        "trusted": true,
        "colab": {
          "base_uri": "https://localhost:8080/"
        },
        "id": "-OyVRE3Cah9F",
        "outputId": "d3c84e05-df8e-4216-cfd3-5e6931969534"
      },
      "cell_type": "code",
      "source": [
        "history = model.fit(X_train, y_train, epochs=30, validation_data=(X_test, y_test), verbose=1)"
      ],
      "execution_count": 18,
      "outputs": [
        {
          "output_type": "stream",
          "name": "stdout",
          "text": [
            "Epoch 1/30\n",
            "4/4 [==============================] - 2s 290ms/step - loss: 4.6807 - accuracy: 0.3048 - val_loss: 3.0842 - val_accuracy: 0.4000\n",
            "Epoch 2/30\n",
            "4/4 [==============================] - 0s 26ms/step - loss: 3.5045 - accuracy: 0.4286 - val_loss: 2.2192 - val_accuracy: 0.4889\n",
            "Epoch 3/30\n",
            "4/4 [==============================] - 0s 24ms/step - loss: 1.4897 - accuracy: 0.6095 - val_loss: 2.3014 - val_accuracy: 0.5556\n",
            "Epoch 4/30\n",
            "4/4 [==============================] - 0s 113ms/step - loss: 1.8769 - accuracy: 0.5524 - val_loss: 1.8321 - val_accuracy: 0.5333\n",
            "Epoch 5/30\n",
            "4/4 [==============================] - 0s 87ms/step - loss: 1.4827 - accuracy: 0.6095 - val_loss: 0.6162 - val_accuracy: 0.8889\n",
            "Epoch 6/30\n",
            "4/4 [==============================] - 0s 65ms/step - loss: 0.8462 - accuracy: 0.6000 - val_loss: 0.5885 - val_accuracy: 0.6222\n",
            "Epoch 7/30\n",
            "4/4 [==============================] - 0s 23ms/step - loss: 0.5859 - accuracy: 0.7238 - val_loss: 0.5647 - val_accuracy: 0.6889\n",
            "Epoch 8/30\n",
            "4/4 [==============================] - 0s 15ms/step - loss: 0.5296 - accuracy: 0.7619 - val_loss: 0.4876 - val_accuracy: 0.7778\n",
            "Epoch 9/30\n",
            "4/4 [==============================] - 0s 14ms/step - loss: 0.5263 - accuracy: 0.7810 - val_loss: 0.5697 - val_accuracy: 0.6444\n",
            "Epoch 10/30\n",
            "4/4 [==============================] - 0s 16ms/step - loss: 0.5022 - accuracy: 0.7143 - val_loss: 0.4071 - val_accuracy: 0.8667\n",
            "Epoch 11/30\n",
            "4/4 [==============================] - 0s 21ms/step - loss: 0.4233 - accuracy: 0.8286 - val_loss: 0.3812 - val_accuracy: 0.8667\n",
            "Epoch 12/30\n",
            "4/4 [==============================] - 0s 16ms/step - loss: 0.3898 - accuracy: 0.8381 - val_loss: 0.3716 - val_accuracy: 0.8889\n",
            "Epoch 13/30\n",
            "4/4 [==============================] - 0s 16ms/step - loss: 0.3758 - accuracy: 0.8190 - val_loss: 0.3485 - val_accuracy: 0.8667\n",
            "Epoch 14/30\n",
            "4/4 [==============================] - 0s 20ms/step - loss: 0.3541 - accuracy: 0.8381 - val_loss: 0.3343 - val_accuracy: 0.9111\n",
            "Epoch 15/30\n",
            "4/4 [==============================] - 0s 16ms/step - loss: 0.3614 - accuracy: 0.8476 - val_loss: 0.3251 - val_accuracy: 0.8889\n",
            "Epoch 16/30\n",
            "4/4 [==============================] - 0s 21ms/step - loss: 0.3283 - accuracy: 0.8286 - val_loss: 0.2959 - val_accuracy: 0.9111\n",
            "Epoch 17/30\n",
            "4/4 [==============================] - 0s 19ms/step - loss: 0.3269 - accuracy: 0.8476 - val_loss: 0.2891 - val_accuracy: 0.9111\n",
            "Epoch 18/30\n",
            "4/4 [==============================] - 0s 15ms/step - loss: 0.3115 - accuracy: 0.8952 - val_loss: 0.3604 - val_accuracy: 0.8222\n",
            "Epoch 19/30\n",
            "4/4 [==============================] - 0s 20ms/step - loss: 0.3555 - accuracy: 0.8571 - val_loss: 0.3416 - val_accuracy: 0.8444\n",
            "Epoch 20/30\n",
            "4/4 [==============================] - 0s 16ms/step - loss: 0.3844 - accuracy: 0.8190 - val_loss: 0.3794 - val_accuracy: 0.8000\n",
            "Epoch 21/30\n",
            "4/4 [==============================] - 0s 17ms/step - loss: 0.3641 - accuracy: 0.8571 - val_loss: 0.3213 - val_accuracy: 0.8000\n",
            "Epoch 22/30\n",
            "4/4 [==============================] - 0s 20ms/step - loss: 0.3511 - accuracy: 0.8095 - val_loss: 0.2912 - val_accuracy: 0.8889\n",
            "Epoch 23/30\n",
            "4/4 [==============================] - 0s 20ms/step - loss: 0.2824 - accuracy: 0.8857 - val_loss: 0.2761 - val_accuracy: 0.8444\n",
            "Epoch 24/30\n",
            "4/4 [==============================] - 0s 15ms/step - loss: 0.3092 - accuracy: 0.8667 - val_loss: 0.2502 - val_accuracy: 0.9111\n",
            "Epoch 25/30\n",
            "4/4 [==============================] - 0s 14ms/step - loss: 0.2930 - accuracy: 0.8571 - val_loss: 0.2126 - val_accuracy: 0.9556\n",
            "Epoch 26/30\n",
            "4/4 [==============================] - 0s 20ms/step - loss: 0.3069 - accuracy: 0.8762 - val_loss: 0.2120 - val_accuracy: 0.9333\n",
            "Epoch 27/30\n",
            "4/4 [==============================] - 0s 21ms/step - loss: 0.3102 - accuracy: 0.8095 - val_loss: 0.2991 - val_accuracy: 0.8667\n",
            "Epoch 28/30\n",
            "4/4 [==============================] - 0s 20ms/step - loss: 0.3326 - accuracy: 0.8667 - val_loss: 0.3025 - val_accuracy: 0.8444\n",
            "Epoch 29/30\n",
            "4/4 [==============================] - 0s 16ms/step - loss: 0.5109 - accuracy: 0.8190 - val_loss: 0.7690 - val_accuracy: 0.6889\n",
            "Epoch 30/30\n",
            "4/4 [==============================] - 0s 16ms/step - loss: 0.9516 - accuracy: 0.7238 - val_loss: 0.1962 - val_accuracy: 0.9556\n"
          ]
        }
      ]
    },
    {
      "metadata": {
        "trusted": true,
        "colab": {
          "base_uri": "https://localhost:8080/"
        },
        "id": "EhaVMT2Dah9H",
        "outputId": "3c1a6b8b-49fe-4a5f-bf25-2df747a22b15"
      },
      "cell_type": "code",
      "source": [
        "model.evaluate(X_test, y_test)"
      ],
      "execution_count": 20,
      "outputs": [
        {
          "output_type": "stream",
          "name": "stdout",
          "text": [
            "2/2 [==============================] - 0s 10ms/step - loss: 0.1962 - accuracy: 0.9556\n"
          ]
        },
        {
          "output_type": "execute_result",
          "data": {
            "text/plain": [
              "[0.19623640179634094, 0.9555555582046509]"
            ]
          },
          "metadata": {},
          "execution_count": 20
        }
      ]
    },
    {
      "metadata": {
        "id": "HyP0u_GJah9I"
      },
      "cell_type": "markdown",
      "source": [
        "## Performance Monitor"
      ]
    },
    {
      "metadata": {
        "trusted": true,
        "colab": {
          "base_uri": "https://localhost:8080/",
          "height": 528
        },
        "id": "JUq4vJycah9K",
        "outputId": "a5a6c57e-9950-44f5-b943-1f4b4dada2da"
      },
      "cell_type": "code",
      "source": [
        "pd.DataFrame(history.history).plot(figsize=(10,6))\n",
        "plt.grid(True)\n",
        "plt.gca().set_ylim(0, 1)\n",
        "plt.show()"
      ],
      "execution_count": 21,
      "outputs": [
        {
          "output_type": "display_data",
          "data": {
            "text/plain": [
              "<Figure size 1000x600 with 1 Axes>"
            ],
            "image/png": "[encoded data removed]"
          },
          "metadata": {}
        }
      ]
    }
  ],
  "metadata": {
    "kernelspec": {
      "name": "python3",
      "display_name": "Python 3",
      "language": "python"
    },
    "colab": {
      "provenance": []
    }
  },
  "nbformat": 4,
  "nbformat_minor": 0
}